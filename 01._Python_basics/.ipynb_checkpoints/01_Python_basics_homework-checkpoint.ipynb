{
 "cells": [
  {
   "cell_type": "markdown",
   "metadata": {},
   "source": [
    "# Задание 1"
   ]
  },
  {
   "cell_type": "code",
   "execution_count": 5,
   "metadata": {},
   "outputs": [
    {
     "name": "stdout",
     "output_type": "stream",
     "text": [
      "Фраза 1 длиннее фразы 2\n"
     ]
    }
   ],
   "source": [
    "phrase_1 = 'Насколько проще было бы писать программы, если бы не заказчики'\n",
    "phrase_2 = '640Кб должно хватить для любых задач. Билл Гейтс (по легенде)'\n",
    "\n",
    "if len(phrase_1) > len(phrase_2):\n",
    "    print('Фраза 1 длиннее фразы 2')\n",
    "elif phrase_1 < phrase_2:\n",
    "    print('Фраза 2 длиннее фразы 1')\n",
    "else:\n",
    "    print('Фразы равной длины')"
   ]
  },
  {
   "cell_type": "markdown",
   "metadata": {},
   "source": [
    "# Задание 2"
   ]
  },
  {
   "cell_type": "code",
   "execution_count": 36,
   "metadata": {},
   "outputs": [
    {
     "name": "stdout",
     "output_type": "stream",
     "text": [
      "2019 - високосный год\n"
     ]
    }
   ],
   "source": [
    "year = 2019\n",
    "\n",
    "if year % 4 == 0 and year % 400 == 0 or year % 100 != 0:\n",
    "    print(year, '- високосный год')\n",
    "else:\n",
    "    print(year, '- обычный год')"
   ]
  },
  {
   "cell_type": "markdown",
   "metadata": {},
   "source": [
    "# Задание 3"
   ]
  },
  {
   "cell_type": "code",
   "execution_count": 6,
   "metadata": {},
   "outputs": [
    {
     "name": "stdout",
     "output_type": "stream",
     "text": [
      "Введите месяц: январь\n",
      "Введите число: 30\n",
      "Ваш знак зодиака:  Водолей\n"
     ]
    }
   ],
   "source": [
    "month = input('Введите месяц: ')\n",
    "date = int(input('Введите число: '))\n",
    "\n",
    "if(month == 'март' and 21 <= date <= 31) or (month == 'апрель' and 1 <= date <= 20):\n",
    "    zodiac_sign = 'Овен'\n",
    "elif(month == 'апрель' and 21 <= date <= 30) or (month == 'май' and 1 <= date <= 21):\n",
    "    zodiac_sign = 'Телец'\n",
    "elif(month == 'май' and 22 <= date <= 31) or (month == 'июнь' and 1 <= date <= 21):\n",
    "    zodiac_sign = 'Близнецы'\n",
    "elif(month == 'июнь' and 22 <= date <= 30) or (month == 'июль' and 1 <= date <= 22):\n",
    "    zodiac_sign = 'Рак'\n",
    "elif(month == 'июль' and 23 <= date <= 31) or (month == 'август' and 1 <= date <= 21):\n",
    "    zodiac_sign = 'Лев'\n",
    "elif(month == 'август' and 22 <= date <= 31) or (month == 'сентябрь' and 1 <= date <= 23):\n",
    "    zodiac_sign = 'Дева'\n",
    "elif(month == 'сентябрь' and 24 <= date <= 30) or (month == 'октябрь' and 1 <= date <= 23):\n",
    "    zodiac_sign = 'Весы'\n",
    "elif(month == 'октябрь' and 24 <= date <= 31) or (month == 'ноябрь' and 1 <= date <= 22):\n",
    "    zodiac_sign = 'Скорпион'\n",
    "elif(month == 'ноябрь' and 23 <= date <= 30) or (month == 'декабрь' and 1 <= date <= 22):\n",
    "    zodiac_sign = 'Стрелец'\n",
    "elif(month == 'декабрь' and 23 <= date <= 31) or (month == 'январь' and 1 <= date <= 20):\n",
    "    zodiac_sign = 'Козерог'\n",
    "elif(month == 'январь' and 21 <= date <= 31) or (month == 'февраль' and 1 <= date <= 19):\n",
    "    zodiac_sign = 'Водолей'\n",
    "elif(month == 'февраль' and 20 <= date <= 29) or (month == 'март' and 1 <= date <= 20):\n",
    "    zodiac_sign = 'Рыбы'\n",
    "else:\n",
    "    print('Дата введена некорректно')\n",
    "\n",
    "print('Ваш знак зодиака: ', zodiac_sign)"
   ]
  },
  {
   "cell_type": "markdown",
   "metadata": {},
   "source": [
    "# Задание 4"
   ]
  },
  {
   "cell_type": "code",
   "execution_count": 56,
   "metadata": {},
   "outputs": [
    {
     "name": "stdout",
     "output_type": "stream",
     "text": [
      "Упаковка для лыж\n"
     ]
    }
   ],
   "source": [
    "width = 10\n",
    "length = 205\n",
    "height = 5\n",
    "\n",
    "if width < 15 and length < 15 and height < 15:\n",
    "    print('Коробка №1')\n",
    "elif length > 200:\n",
    "    print ('Упаковка для лыж')\n",
    "elif (15 < width < 50) or (15 < length < 50) or (15 < height < 50):\n",
    "    print('Коробка №2')\n",
    "else:\n",
    "    print('Стандартная коробка №3')\n",
    "    "
   ]
  },
  {
   "cell_type": "markdown",
   "metadata": {},
   "source": [
    "# Задание 5"
   ]
  },
  {
   "cell_type": "code",
   "execution_count": 12,
   "metadata": {},
   "outputs": [
    {
     "name": "stdout",
     "output_type": "stream",
     "text": [
      "Введите номер билета: 123321\n",
      "Счастливый билет\n"
     ]
    }
   ],
   "source": [
    "number = input('Введите номер билета: ')\n",
    "\n",
    "sum1 = int(number[0]) + int(number[1]) + int(number[2])\n",
    "sum2 = int(number[-3]) + int(number[-2]) + int(number[-1])\n",
    "if sum1 == sum2:\n",
    "    print('Счастливый билет')\n",
    "else:\n",
    "    print('Несчастливый билет')\n"
   ]
  },
  {
   "cell_type": "markdown",
   "metadata": {},
   "source": [
    "# Задание 6"
   ]
  },
  {
   "cell_type": "code",
   "execution_count": 18,
   "metadata": {},
   "outputs": [],
   "source": [
    "from math import sqrt"
   ]
  },
  {
   "cell_type": "code",
   "execution_count": 41,
   "metadata": {},
   "outputs": [
    {
     "name": "stdout",
     "output_type": "stream",
     "text": [
      "Введите тип фигуры: треугольник\n",
      "Введите первую сторону треугольника: 2\n",
      "Введите вторую сторону треугольника: 2\n",
      "Введите третью сторону треугольника: 3\n",
      "Площадь треугольника:  1.98\n"
     ]
    }
   ],
   "source": [
    "figure = input('Введите тип фигуры: ') \n",
    "if figure == 'прямоугольник' or figure == 'Прямоугольник': \n",
    "    side_rect1 = float(input('Введите первую сторону прямоугольника: '))\n",
    "    side_rect2 = float(input('Введите вторую сторону прямоугольника: '))\n",
    "    s_rect = side_rect1 * side_rect2\n",
    "    print('Площадь прямоугольника: ', round(s_rect, 2))\n",
    "elif figure == 'треугольник' or figure == 'Треугольник':\n",
    "    side_triang1 = float(input('Введите первую сторону треугольника: '))\n",
    "    side_triang2 = float(input('Введите вторую сторону треугольника: '))\n",
    "    side_triang3 = float(input('Введите третью сторону треугольника: '))\n",
    "    p_triang = (side_triang1 + side_triang2 + side_triang3)/2\n",
    "    s_triang = sqrt(p_triang * (p_triang - side_triang1) * (p_triang - side_triang2) * (p_triang - side_triang3))\n",
    "    print('Площадь треугольника: ', round(s_triang, 2))\n",
    "elif figure == 'круг' or figure == 'Круг':\n",
    "    rad_circ = float(input('Введите радиус круга: '))\n",
    "    s_circ = rad_circ ** 2 * 3.1416\n",
    "    print('Площадь круга: ', round(s_circ, 2))\n",
    "else:\n",
    "    print('Площадь фигуры не может быть рассчитана')\n",
    "    \n"
   ]
  }
 ],
 "metadata": {
  "kernelspec": {
   "display_name": "Python 3",
   "language": "python",
   "name": "python3"
  },
  "language_info": {
   "codemirror_mode": {
    "name": "ipython",
    "version": 3
   },
   "file_extension": ".py",
   "mimetype": "text/x-python",
   "name": "python",
   "nbconvert_exporter": "python",
   "pygments_lexer": "ipython3",
   "version": "3.8.3"
  }
 },
 "nbformat": 4,
 "nbformat_minor": 4
}

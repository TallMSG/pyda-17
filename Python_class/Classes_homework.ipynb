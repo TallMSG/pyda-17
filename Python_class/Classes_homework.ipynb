{
 "cells": [
  {
   "cell_type": "markdown",
   "metadata": {},
   "source": [
    "# Задание 1"
   ]
  },
  {
   "cell_type": "code",
   "execution_count": 1,
   "metadata": {},
   "outputs": [],
   "source": [
    "import requests\n",
    "from libs.exchange import Rate"
   ]
  },
  {
   "cell_type": "code",
   "execution_count": 2,
   "metadata": {},
   "outputs": [
    {
     "data": {
      "text/plain": [
       "<libs.exchange.Rate at 0x1a56a8dd3d0>"
      ]
     },
     "execution_count": 2,
     "metadata": {},
     "output_type": "execute_result"
    }
   ],
   "source": [
    "r = Rate('full')\n",
    "r"
   ]
  },
  {
   "cell_type": "code",
   "execution_count": 30,
   "metadata": {},
   "outputs": [
    {
     "name": "stdout",
     "output_type": "stream",
     "text": [
      "Валюта с максимальным курсом: СДР (специальные права заимствования). Курс: 107.2687\n"
     ]
    }
   ],
   "source": [
    "def max_rate(rate):   \n",
    "\n",
    "    currencies_json = rate.exchange_rates()\n",
    "\n",
    "    currencies_dict = {}\n",
    "    for currency, v in currencies_json.items():\n",
    "        currencies_dict[currencies_json[currency]['Name']] = currencies_json[currency]['Value']\n",
    "\n",
    "    max_rate = max(currencies_dict.values())\n",
    "    for k, v in currencies_dict.items():\n",
    "        if v == max_rate:\n",
    "            return k, v\n",
    "\n",
    "print(f'Валюта с максимальным курсом: {max_rate(r)[0]}. Курс: {max_rate(r)[1]}')"
   ]
  },
  {
   "cell_type": "code",
   "execution_count": 8,
   "metadata": {},
   "outputs": [
    {
     "data": {
      "text/plain": [
       "'СДР (специальные права заимствования)'"
      ]
     },
     "execution_count": 8,
     "metadata": {},
     "output_type": "execute_result"
    }
   ],
   "source": [
    "r = requests.get('https://www.cbr-xml-daily.ru/daily_json.js')\n",
    "\n",
    "data_dict = r.json()['Valute']\n",
    "\n",
    "max(data_dict.items(), key=lambda x: x[1]['Value'])[1]['Name']"
   ]
  },
  {
   "cell_type": "markdown",
   "metadata": {},
   "source": [
    "# Задание 2"
   ]
  },
  {
   "cell_type": "code",
   "execution_count": 9,
   "metadata": {},
   "outputs": [],
   "source": [
    "class Rate1(Rate):\n",
    "    def __init__(self, format = 'value', diff = True):\n",
    "        self.format = format\n",
    "        self.diff = diff\n",
    "    \n",
    "    \n",
    "    def make_format(self, currency):\n",
    "        \n",
    "        response = self.exchange_rates()\n",
    "        \n",
    "        if currency in response:\n",
    "            \n",
    "            if self.diff == True:\n",
    "                aaa = response[currency]['Value']\n",
    "                bbb = response[currency]['Previous']\n",
    "                return aaa - bbb\n",
    "            \n",
    "            if self.diff == False:\n",
    "                if self.format == 'full':\n",
    "                    return response[currency]\n",
    "            \n",
    "                if self.format == 'value':\n",
    "                    return response[currency]['Value']\n",
    "                \n",
    "        \n",
    "        return 'Error'\n",
    "    "
   ]
  },
  {
   "cell_type": "code",
   "execution_count": 13,
   "metadata": {},
   "outputs": [
    {
     "data": {
      "text/plain": [
       "0.9921000000000078"
      ]
     },
     "execution_count": 13,
     "metadata": {},
     "output_type": "execute_result"
    }
   ],
   "source": [
    "r = Rate1('value', True)\n",
    "r.usd()"
   ]
  },
  {
   "cell_type": "markdown",
   "metadata": {},
   "source": [
    "# Задание 3"
   ]
  },
  {
   "cell_type": "code",
   "execution_count": 32,
   "metadata": {},
   "outputs": [],
   "source": [
    "class Employee:\n",
    "    def __init__(self, name, seniority):\n",
    "        self.name = name\n",
    "        self.seniority = seniority\n",
    "        \n",
    "        self.grade = 1\n",
    "    \n",
    "    def grade_up(self):\n",
    "        \"\"\"Повышает уровень сотрудника\"\"\"\n",
    "        self.grade += 1\n",
    "    \n",
    "    def publish_grade(self):\n",
    "        \"\"\"Публикация результатов аккредитации сотрудников\"\"\"\n",
    "        print(self.name, self.grade)\n",
    "    \n",
    "    def check_if_it_is_time_for_upgrade(self):\n",
    "        pass"
   ]
  },
  {
   "cell_type": "code",
   "execution_count": 82,
   "metadata": {},
   "outputs": [],
   "source": [
    "class Developer(Employee):\n",
    "    def __init__(self, name, seniority):\n",
    "        super().__init__(name, seniority)\n",
    "    \n",
    "    def check_if_it_is_time_for_upgrade(self):\n",
    "        # для каждой аккредитации увеличиваем счетчик на 1\n",
    "        # пока считаем, что все разработчики проходят аккредитацию\n",
    "        self.seniority += 1\n",
    "        \n",
    "        # условие повышения сотрудника из презентации\n",
    "        if self.seniority % 5 == 0:\n",
    "            self.grade_up()\n",
    "        \n",
    "        # публикация результатов\n",
    "        return self.publish_grade()"
   ]
  },
  {
   "cell_type": "code",
   "execution_count": 89,
   "metadata": {},
   "outputs": [],
   "source": [
    "class Designer(Developer):\n",
    "    def __init__(self, name, seniority, inter_grade = 2):\n",
    "        super().__init__(name, seniority)\n",
    "        self.inter_grade = inter_grade\n",
    "        \n",
    "    def check_if_it_is_time_for_upgrade(self):\n",
    "        # для каждой аккредитации увеличиваем счетчик на 1\n",
    "        # пока считаем, что все дизайнеры проходят аккредитацию\n",
    "        self.seniority = self.seniority + self.inter_grade*2 + 1\n",
    "        self.inter_grade = 0\n",
    "                \n",
    "        # условие повышения сотрудника из презентации\n",
    "        if self.seniority % 7 == 0:\n",
    "            self.grade_up()\n",
    "        \n",
    "        # публикация результатов\n",
    "        return self.publish_grade()"
   ]
  },
  {
   "cell_type": "code",
   "execution_count": 90,
   "metadata": {},
   "outputs": [],
   "source": [
    "a = Designer('Анна', 0)"
   ]
  },
  {
   "cell_type": "code",
   "execution_count": 91,
   "metadata": {},
   "outputs": [
    {
     "name": "stdout",
     "output_type": "stream",
     "text": [
      "Анна 1\n",
      "Анна 1\n",
      "Анна 2\n",
      "Анна 2\n",
      "Анна 2\n",
      "Анна 2\n",
      "Анна 2\n",
      "Анна 2\n",
      "Анна 2\n",
      "Анна 3\n",
      "Анна 3\n",
      "Анна 3\n",
      "Анна 3\n",
      "Анна 3\n",
      "Анна 3\n",
      "Анна 3\n",
      "Анна 4\n",
      "Анна 4\n",
      "Анна 4\n",
      "Анна 4\n",
      "Анна 4\n",
      "Анна 4\n",
      "Анна 4\n",
      "Анна 5\n",
      "Анна 5\n",
      "Анна 5\n",
      "Анна 5\n",
      "Анна 5\n",
      "Анна 5\n",
      "Анна 5\n"
     ]
    }
   ],
   "source": [
    "for i in range(30):\n",
    "    a.check_if_it_is_time_for_upgrade()"
   ]
  },
  {
   "cell_type": "code",
   "execution_count": null,
   "metadata": {},
   "outputs": [],
   "source": []
  }
 ],
 "metadata": {
  "kernelspec": {
   "display_name": "Python 3",
   "language": "python",
   "name": "python3"
  },
  "language_info": {
   "codemirror_mode": {
    "name": "ipython",
    "version": 3
   },
   "file_extension": ".py",
   "mimetype": "text/x-python",
   "name": "python",
   "nbconvert_exporter": "python",
   "pygments_lexer": "ipython3",
   "version": "3.8.3"
  }
 },
 "nbformat": 4,
 "nbformat_minor": 4
}

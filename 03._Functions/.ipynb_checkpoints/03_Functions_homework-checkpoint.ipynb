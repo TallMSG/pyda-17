{
 "cells": [
  {
   "cell_type": "code",
   "execution_count": 1,
   "metadata": {},
   "outputs": [],
   "source": [
    "documents = [\n",
    " {'type': 'passport', 'number': '2207 876234', 'name': 'Василий Гупкин'},\n",
    " {'type': 'invoice', 'number': '11-2', 'name': 'Геннадий Покемонов'},\n",
    " {'type': 'insurance', 'number': '10006', 'name': 'Аристарх Павлов'}\n",
    "]\n",
    "\n",
    "directories = {\n",
    " '1': ['2207 876234', '11-2'],\n",
    " '2': ['10006'],\n",
    " '3': []\n",
    "}\n"
   ]
  },
  {
   "cell_type": "markdown",
   "metadata": {},
   "source": [
    "# Задание 1"
   ]
  },
  {
   "cell_type": "code",
   "execution_count": 9,
   "metadata": {},
   "outputs": [],
   "source": [
    "def people(people_by_doc):\n",
    "    inp_num = input('Введите номер документа: ')\n",
    "    for cell in people_by_doc:\n",
    "        num = cell['number']\n",
    "        person = cell['name']\n",
    "        if inp_num == num:\n",
    "            print(f'Владелец документа: {person}')\n",
    "            return\n",
    "    print('Документ не найден в базе')"
   ]
  },
  {
   "cell_type": "code",
   "execution_count": 10,
   "metadata": {},
   "outputs": [
    {
     "name": "stdout",
     "output_type": "stream",
     "text": [
      "Введите номер документа: 12345\n",
      "Документ не найден в базе\n"
     ]
    }
   ],
   "source": [
    "people(documents)"
   ]
  },
  {
   "cell_type": "code",
   "execution_count": 11,
   "metadata": {},
   "outputs": [],
   "source": [
    "def shelf(people_by_doc, shelf_of_doc):\n",
    "    inp_num = input('Введите номер документа: ')\n",
    "    for cell in people_by_doc:\n",
    "        num = cell['number']\n",
    "        if inp_num == num:\n",
    "            for k, v in shelf_of_doc.items():\n",
    "                if inp_num in v:\n",
    "                    print('Документ находится на полке ',k)\n",
    "                    return\n",
    "    print('Документ не найден в базе') "
   ]
  },
  {
   "cell_type": "code",
   "execution_count": 13,
   "metadata": {},
   "outputs": [
    {
     "name": "stdout",
     "output_type": "stream",
     "text": [
      "Введите номер документа: 12345\n",
      "Документ не найден в базе\n"
     ]
    }
   ],
   "source": [
    "shelf(documents, directories)"
   ]
  },
  {
   "cell_type": "code",
   "execution_count": 14,
   "metadata": {},
   "outputs": [],
   "source": [
    "def lists(people_by_doc, shelf_of_doc):\n",
    "    for cell in people_by_doc:\n",
    "        doc_id = cell['type']\n",
    "        num = cell['number']\n",
    "        person = cell['name']\n",
    "        for k, v in shelf_of_doc.items():\n",
    "            if num in v:\n",
    "                print(f'№: {num}, тип: {doc_id}, владелец: {person}, полка хранения {k}' )   "
   ]
  },
  {
   "cell_type": "code",
   "execution_count": 16,
   "metadata": {},
   "outputs": [
    {
     "name": "stdout",
     "output_type": "stream",
     "text": [
      "№: 2207 876234, тип: passport, владелец: Василий Гупкин, полка хранения 1\n",
      "№: 11-2, тип: invoice, владелец: Геннадий Покемонов, полка хранения 1\n",
      "№: 10006, тип: insurance, владелец: Аристарх Павлов, полка хранения 2\n"
     ]
    }
   ],
   "source": [
    "lists(documents, directories)"
   ]
  },
  {
   "cell_type": "code",
   "execution_count": 17,
   "metadata": {},
   "outputs": [],
   "source": [
    "def add(shelf_of_doc):\n",
    "    inp_shelf = input('Введите номер полки: ')\n",
    "    inp_num_list = []\n",
    "    if inp_shelf in shelf_of_doc.keys():\n",
    "        print('Полка уже существует. Текущий перечень полок: ', ', '.join(k for k, v in shelf_of_doc.items()))\n",
    "    else:\n",
    "        shelf_of_doc.update({inp_shelf:inp_num_list})\n",
    "        print('Полка добавлена. Текущий перечень полок: ', ', '.join(k for k, v in shelf_of_doc.items()))"
   ]
  },
  {
   "cell_type": "code",
   "execution_count": 20,
   "metadata": {},
   "outputs": [
    {
     "name": "stdout",
     "output_type": "stream",
     "text": [
      "Введите номер полки: 1\n",
      "Полка уже существует. Текущий перечень полок:  1, 2, 3, 10\n"
     ]
    }
   ],
   "source": [
    "add(directories)"
   ]
  },
  {
   "cell_type": "code",
   "execution_count": 21,
   "metadata": {},
   "outputs": [],
   "source": [
    "def delete(shelf_of_doc):\n",
    "    inp_shelf = input('Введите номер полки: ')\n",
    "    if inp_shelf not in shelf_of_doc.keys():\n",
    "        print('Такой папки не существует. Текущий перечень полок: ', ', '.join(k for k, v in shelf_of_doc.items()))\n",
    "    elif len(shelf_of_doc[inp_shelf]) == 0:\n",
    "        del(shelf_of_doc[inp_shelf])\n",
    "        print('Полка удалена. Текущий перечень полок: ', ', '.join(k for k, v in shelf_of_doc.items()))\n",
    "    else:\n",
    "        print('На полке есть документы, удалите их перед удалением полки. Текущий перечень полок: ', ', '.join(k for k, v in shelf_of_doc.items()))\n",
    "    "
   ]
  },
  {
   "cell_type": "code",
   "execution_count": 24,
   "metadata": {},
   "outputs": [
    {
     "name": "stdout",
     "output_type": "stream",
     "text": [
      "Введите номер полки: 4\n",
      "Такой папки не существует. Текущий перечень полок:  1, 2, 10\n"
     ]
    }
   ],
   "source": [
    "delete(directories)"
   ]
  },
  {
   "cell_type": "code",
   "execution_count": 25,
   "metadata": {},
   "outputs": [],
   "source": [
    "def main():\n",
    "    while True:\n",
    "        user_input = input('Введите команду: ')\n",
    "        if user_input == 'p':\n",
    "            people(documents)\n",
    "        elif user_input == 's':\n",
    "            shelf(documents, directories)\n",
    "        elif user_input == 'l':\n",
    "            lists(documents, directories)\n",
    "        elif user_input == 'ads':\n",
    "            add(directories)\n",
    "        elif user_input == 'ds':\n",
    "            delete(directories)\n",
    "        elif user_input == 'q':\n",
    "            break\n",
    "        else:\n",
    "            print('Такой команды не существует')\n",
    "    "
   ]
  },
  {
   "cell_type": "code",
   "execution_count": 26,
   "metadata": {},
   "outputs": [
    {
     "name": "stdout",
     "output_type": "stream",
     "text": [
      "Введите команду: p\n",
      "Введите номер документа: 10006\n",
      "Владелец документа: Аристарх Павлов\n",
      "Введите команду: s\n",
      "Введите номер документа: 10006\n",
      "Документ находится на полке  2\n",
      "Введите команду: p\n",
      "Введите номер документа: 12345\n",
      "Документ не найден в базе\n",
      "Введите команду: s\n",
      "Введите номер документа: 12345\n",
      "Документ не найден в базе\n",
      "Введите команду: l\n",
      "№: 2207 876234, тип: passport, владелец: Василий Гупкин, полка хранения 1\n",
      "№: 11-2, тип: invoice, владелец: Геннадий Покемонов, полка хранения 1\n",
      "№: 10006, тип: insurance, владелец: Аристарх Павлов, полка хранения 2\n",
      "Введите команду: ads\n",
      "Введите номер полки: 3\n",
      "Полка добавлена. Текущий перечень полок:  1, 2, 10, 3\n",
      "Введите команду: ds\n",
      "Введите номер полки: 10\n",
      "Полка удалена. Текущий перечень полок:  1, 2, 3\n",
      "Введите команду: r\n",
      "Такой команды не существует\n",
      "Введите команду: q\n"
     ]
    }
   ],
   "source": [
    "main()"
   ]
  },
  {
   "cell_type": "code",
   "execution_count": null,
   "metadata": {},
   "outputs": [],
   "source": []
  }
 ],
 "metadata": {
  "kernelspec": {
   "display_name": "Python 3",
   "language": "python",
   "name": "python3"
  },
  "language_info": {
   "codemirror_mode": {
    "name": "ipython",
    "version": 3
   },
   "file_extension": ".py",
   "mimetype": "text/x-python",
   "name": "python",
   "nbconvert_exporter": "python",
   "pygments_lexer": "ipython3",
   "version": "3.8.3"
  }
 },
 "nbformat": 4,
 "nbformat_minor": 4
}

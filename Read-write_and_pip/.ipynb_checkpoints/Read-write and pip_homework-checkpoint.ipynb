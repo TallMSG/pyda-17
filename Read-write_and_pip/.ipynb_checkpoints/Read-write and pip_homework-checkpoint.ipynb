{
 "cells": [
  {
   "cell_type": "code",
   "execution_count": 1,
   "metadata": {},
   "outputs": [],
   "source": [
    "import json\n",
    "import csv"
   ]
  },
  {
   "cell_type": "markdown",
   "metadata": {},
   "source": [
    "# Задание 1"
   ]
  },
  {
   "cell_type": "code",
   "execution_count": 2,
   "metadata": {},
   "outputs": [
    {
     "name": "stdout",
     "output_type": "stream",
     "text": [
      "1840e0b9d4 Продукты\n",
      "4e4f90fcfb Электроника\n",
      "afea8d72fc Электроника\n",
      "373a6055fe Бытовая техника\n",
      "9b2ab046f3 Электроника\n",
      "9f39d307c3 Электроника\n",
      "44edeffc91 Продукты\n",
      "704474fa2d Продукты\n",
      "1de31be403 Бытовая техника\n"
     ]
    }
   ],
   "source": [
    "with open('purchase_log.txt', 'r', encoding='utf-8') as f:\n",
    "    next(f)\n",
    "    purchase_dict = {}\n",
    "    for lines in f:\n",
    "        json_dict = json.loads(lines)\n",
    "        purchase_dict.update({json_dict['user_id']: json_dict['category']})\n",
    "        \n",
    "    i = 0\n",
    "    for k, v in purchase_dict.items():\n",
    "        i += 1\n",
    "        if i < 10:\n",
    "            print(k, v)"
   ]
  },
  {
   "cell_type": "markdown",
   "metadata": {},
   "source": [
    "# Задание 2"
   ]
  },
  {
   "cell_type": "code",
   "execution_count": 53,
   "metadata": {},
   "outputs": [
    {
     "name": "stdout",
     "output_type": "stream",
     "text": [
      "[['6450655ae8', 'other', 'Электроника'], ['b4ea53e670', 'other', 'Электроника'], ['0e37347152', 'other', 'Электроника'], ['96064ae9e0', 'other', 'Электроника'], ['e1bd168161', 'context', 'Электроника'], ['71bcf169b4', 'other', 'Электроника'], ['e0aee73c5d', 'other', 'Электроника'], ['1f8845e157', 'context', 'Электроника'], ['78d22c5c78', 'other', 'Электроника'], ['dd85040770', 'other', 'Электроника'], ['2301051b25', 'other', 'Электроника'], ['86835b81ac', 'context', 'Электроника'], ['90d9a575a2', 'other', 'Электроника'], ['1b75c4f23f', 'other', 'Электроника'], ['d94b908660', 'None', 'Электроника'], ['f697206af5', 'other', 'Электроника'], ['8a9a2de36e', 'other', 'Электроника'], ['dd3d43c266', 'context', 'Электроника'], ['f6401d302f', 'context', 'Электроника'], ['b18d58560b', 'email', 'Электроника'], ['ed79586589', 'other', 'Электроника'], ['1840e0b9d4', 'other', 'Продукты'], ['b4afdc5ccc', 'other', 'Продукты'], ['470248aabf', 'other', 'Продукты'], ['948d9be43c', 'other', 'Продукты']]\n"
     ]
    }
   ],
   "source": [
    "# Исправленный вариант\n",
    "\n",
    "with open ('visit_log.csv', 'r') as f:\n",
    "    next(f)\n",
    "    with open ('funnel1.csv', 'w', encoding='utf-8', newline='') as f2write:\n",
    "        new_list = []\n",
    "        for line in f:\n",
    "            user_id, source = line.strip().split(',')\n",
    "            if user_id in purchase_dict:\n",
    "                category = purchase_dict[user_id]            \n",
    "            new_list.append([user_id, source, category])\n",
    "        print(new_list[:25])\n",
    "        writer = csv.writer(f2write)\n",
    "        for eli in new_list:\n",
    "            writer.writerow(eli)\n",
    "                "
   ]
  },
  {
   "cell_type": "code",
   "execution_count": 48,
   "metadata": {},
   "outputs": [],
   "source": [
    "# Старый альтернативный вариант\n",
    "\n",
    "with open ('visit_log.csv', 'r') as f:\n",
    "    visit_dict = {}\n",
    "    for line in f:\n",
    "        row = line.strip().split(',')\n",
    "        visit_dict[row[0]] = row[1]"
   ]
  },
  {
   "cell_type": "code",
   "execution_count": 49,
   "metadata": {},
   "outputs": [],
   "source": [
    "# Старый альтернативный вариант\n",
    "\n",
    "def operator_important(operator_one, operator_two):\n",
    "    \"\"\"Поиск одинаковых элементов в словаре и словаре и запись в словарь.\"\"\"\n",
    "\n",
    "    operator_main = dict()\n",
    "    all_keys = set(list(operator_one.keys()) + list(operator_two.keys()))\n",
    "\n",
    "    for key in all_keys:\n",
    "        if key in operator_one and key in operator_two:\n",
    "            operator_main[key] = [operator_one[key], operator_two[key]]\n",
    "\n",
    "    return operator_main\n",
    "\n",
    "unit_dict = operator_important(visit_dict, purchase_dict)"
   ]
  },
  {
   "cell_type": "code",
   "execution_count": 50,
   "metadata": {},
   "outputs": [
    {
     "name": "stdout",
     "output_type": "stream",
     "text": [
      "[['43f583744a', 'other', 'Досуг'], ['a62093206a', 'context', 'Продукты'], ['65439c6847', 'other', 'Электроника'], ['19721716ec', 'other', 'Бытовая техника'], ['d91abe7e29', 'other', 'Бытовая техника']]\n"
     ]
    }
   ],
   "source": [
    "# Старый альтернативный вариант\n",
    "\n",
    "new_list = []\n",
    "for k, v in unit_dict.items():\n",
    "    new_list.append([k, v[0], v[1]])\n",
    "print(new_list[:5])"
   ]
  },
  {
   "cell_type": "code",
   "execution_count": 51,
   "metadata": {},
   "outputs": [],
   "source": [
    "# Старый альтернативный вариант\n",
    "\n",
    "with open ('funnel.csv', 'w', encoding='utf-8', newline='') as new_file:\n",
    "    writer = csv.writer(new_file)\n",
    "    for eli in new_list:\n",
    "        writer.writerow(eli)"
   ]
  }
 ],
 "metadata": {
  "kernelspec": {
   "display_name": "Python 3",
   "language": "python",
   "name": "python3"
  },
  "language_info": {
   "codemirror_mode": {
    "name": "ipython",
    "version": 3
   },
   "file_extension": ".py",
   "mimetype": "text/x-python",
   "name": "python",
   "nbconvert_exporter": "python",
   "pygments_lexer": "ipython3",
   "version": "3.8.3"
  }
 },
 "nbformat": 4,
 "nbformat_minor": 4
}

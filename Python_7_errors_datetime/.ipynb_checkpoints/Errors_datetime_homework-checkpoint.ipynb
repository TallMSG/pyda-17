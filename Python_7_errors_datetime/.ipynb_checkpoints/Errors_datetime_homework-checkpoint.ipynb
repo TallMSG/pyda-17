{
 "cells": [
  {
   "cell_type": "markdown",
   "metadata": {},
   "source": [
    "# Задание 1"
   ]
  },
  {
   "cell_type": "code",
   "execution_count": 54,
   "metadata": {},
   "outputs": [],
   "source": [
    "from datetime import datetime\n",
    "from datetime import timedelta"
   ]
  },
  {
   "cell_type": "code",
   "execution_count": 16,
   "metadata": {},
   "outputs": [
    {
     "data": {
      "text/plain": [
       "datetime.datetime(1977, 8, 18, 0, 0)"
      ]
     },
     "execution_count": 16,
     "metadata": {},
     "output_type": "execute_result"
    }
   ],
   "source": [
    "mt = 'The Moscow Times - Wednesday, October 2, 2002'\n",
    "gd = 'The Guardian - Friday, 11.10.13'\n",
    "dn = 'Daily News - Thursday, 18 August 1977'\n",
    "\n",
    "datetime.strptime(mt, 'The Moscow Times - %A, %B %d, %Y')\n",
    "datetime.strptime(gd, 'The Guardian - %A, %d.%m.%y')\n",
    "datetime.strptime(dn, 'Daily News - %A, %d %B %Y')"
   ]
  },
  {
   "cell_type": "markdown",
   "metadata": {},
   "source": [
    "# Задание 2"
   ]
  },
  {
   "cell_type": "code",
   "execution_count": 37,
   "metadata": {},
   "outputs": [
    {
     "name": "stdout",
     "output_type": "stream",
     "text": [
      "2018-04-02 True\n",
      "2018-02-29 False\n",
      "2018-19-02 False\n"
     ]
    }
   ],
   "source": [
    "# Вариант 1\n",
    "\n",
    "stream = ['2018-04-02', '2018-02-29', '2018-19-02']\n",
    "\n",
    "def datecorr(dates):\n",
    "    for el in dates:\n",
    "        try:\n",
    "            valid_date = datetime.strptime(el, '%Y-%m-%d')\n",
    "            print(el, 'True')\n",
    "        except ValueError:\n",
    "            print(el, 'False')\n",
    "        \n",
    "datecorr(stream)"
   ]
  },
  {
   "cell_type": "code",
   "execution_count": 51,
   "metadata": {},
   "outputs": [
    {
     "name": "stdout",
     "output_type": "stream",
     "text": [
      "('2018-04-02', True)\n",
      "('2018-02-29', False)\n",
      "('2018-19-02', False)\n"
     ]
    }
   ],
   "source": [
    "# Вариант 2\n",
    "\n",
    "stream = ['2018-04-02', '2018-02-29', '2018-19-02']\n",
    "\n",
    "def datecorr1(dates):\n",
    "    try: \n",
    "        valid_date = datetime.strptime(dates, '%Y-%m-%d') \n",
    "        return dates, True\n",
    "    except ValueError: \n",
    "        return dates, False\n",
    "    \n",
    "for el in stream:\n",
    "    print(datecorr1(el))"
   ]
  },
  {
   "cell_type": "markdown",
   "metadata": {},
   "source": [
    "# Задание 3"
   ]
  },
  {
   "cell_type": "code",
   "execution_count": 90,
   "metadata": {},
   "outputs": [
    {
     "name": "stdout",
     "output_type": "stream",
     "text": [
      "['2020-01-01', '2020-01-02', '2020-01-03', '2020-01-04', '2020-01-05', '2020-01-06', '2020-01-07', '2020-01-08', '2020-01-09', '2020-01-10', '2020-01-11', '2020-01-12', '2020-01-13', '2020-01-14', '2020-01-15', '2020-01-16', '2020-01-17', '2020-01-18', '2020-01-19', '2020-01-20', '2020-01-21', '2020-01-22', '2020-01-23', '2020-01-24', '2020-01-25', '2020-01-26', '2020-01-27', '2020-01-28', '2020-01-29', '2020-01-30', '2020-01-31']\n"
     ]
    }
   ],
   "source": [
    "start_date = '2020-01-01'\n",
    "end_date = '2020-01-31'\n",
    "\n",
    "def date_range(start, end):\n",
    "    new_list = []\n",
    "    try:\n",
    "        start = datetime.strptime(start, '%Y-%m-%d')\n",
    "        end = datetime.strptime(end, '%Y-%m-%d')\n",
    "        while start <= end:\n",
    "            new_list.append(start.strftime('%Y-%m-%d'))\n",
    "            start += timedelta(days=1)\n",
    "        return new_list\n",
    "    except ValueError:\n",
    "        return new_list\n",
    "#     except:\n",
    "#         start >= end\n",
    "#         return new_list\n",
    "\n",
    "    \n",
    "print(date_range(start_date, end_date))\n"
   ]
  }
 ],
 "metadata": {
  "kernelspec": {
   "display_name": "Python 3",
   "language": "python",
   "name": "python3"
  },
  "language_info": {
   "codemirror_mode": {
    "name": "ipython",
    "version": 3
   },
   "file_extension": ".py",
   "mimetype": "text/x-python",
   "name": "python",
   "nbconvert_exporter": "python",
   "pygments_lexer": "ipython3",
   "version": "3.8.3"
  }
 },
 "nbformat": 4,
 "nbformat_minor": 4
}

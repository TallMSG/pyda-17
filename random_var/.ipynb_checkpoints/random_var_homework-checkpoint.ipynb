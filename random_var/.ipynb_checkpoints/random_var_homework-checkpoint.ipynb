{
 "cells": [
  {
   "cell_type": "markdown",
   "metadata": {},
   "source": [
    "Смоделировать игру против лотерейного автомата типа “777”. Игрок платит 1 руб., после чего выпадает случайное целое число, равномерно распределенное от 0 до 999. При некоторых значениях числа игрок получает выигрыш (см. справа)\n",
    "\n",
    "Выгодна ли игра игроку?\n",
    "\n",
    "Сколько в среднем приобретает\n",
    "или теряет игрок за одну игру?\n",
    "\n",
    "777: 200 руб.\n",
    "999: 100 руб.\n",
    "555: 50 руб.\n",
    "333: 15 руб.\n",
    "111: 10 руб.\n",
    "*77: 5 руб.\n",
    "**7: 3 руб.\n",
    "*00: 2 руб.\n",
    "**0: 1 руб.\n",
    "\n",
    "– любая цифра"
   ]
  },
  {
   "cell_type": "code",
   "execution_count": 189,
   "metadata": {},
   "outputs": [],
   "source": [
    "import numpy as np"
   ]
  },
  {
   "cell_type": "code",
   "execution_count": 190,
   "metadata": {},
   "outputs": [],
   "source": [
    "def comm():\n",
    "    combination = []\n",
    "    for i in range(3):\n",
    "        wheel1 = np.random.randint(0, 10)\n",
    "        combination.append(wheel1)\n",
    "    return combination"
   ]
  },
  {
   "cell_type": "code",
   "execution_count": 191,
   "metadata": {},
   "outputs": [
    {
     "name": "stdout",
     "output_type": "stream",
     "text": [
      "0.211\n"
     ]
    }
   ],
   "source": [
    "trials = 1000    # Количество возможных значений\n",
    "successes = 0    # Количество успехов\n",
    "\n",
    "for i in range(trials):\n",
    "    random_score = comm()    \n",
    "    if random_score[2] == 0 or random_score[2] == 7 or random_score == [1, 1, 1] or random_score == [3, 3, 3] or random_score == [5, 5, 5] or random_score == [9, 9, 9]:\n",
    "        successes += 1\n",
    "        \n",
    "p_mc_777 = successes / trials    # Вероятность из моделирования по методу Монте-Карло выиграть любую сумму\n",
    "print(p_mc_777)"
   ]
  },
  {
   "cell_type": "code",
   "execution_count": 192,
   "metadata": {},
   "outputs": [
    {
     "data": {
      "text/plain": [
       "0.09"
      ]
     },
     "execution_count": 192,
     "metadata": {},
     "output_type": "execute_result"
    }
   ],
   "source": [
    "# Посчитаем вероятности всех выигрышных комбинаций\n",
    "\n",
    "p_777 = 1/trials   # Теоретическая вероятность выиграть 200 рублей\n",
    "p_999 = 1/trials   # Теоретическая вероятность выиграть 100 рублей\n",
    "p_555 = 1/trials   # Теоретическая вероятность выиграть 50 рублей\n",
    "p_333 = 1/trials   # Теоретическая вероятность выиграть 15 рублей\n",
    "p_111 = 1/trials   # Теоретическая вероятность выиграть 10 рублей\n",
    "p_x77 = 9/trials  # Теоретическая вероятность выиграть 5 рублей\n",
    "p_x00 = 9/trials  # Теоретическая вероятность выиграть 2 рубля\n",
    "p_xx7 = 90/trials  # Теоретическая вероятность выиграть 3 рубля\n",
    "p_xx0 = 90/trials  # Теоретическая вероятность выиграть 1 рубль\n",
    "p_xx0"
   ]
  },
  {
   "cell_type": "code",
   "execution_count": 193,
   "metadata": {},
   "outputs": [
    {
     "data": {
      "text/plain": [
       "0.203"
      ]
     },
     "execution_count": 193,
     "metadata": {},
     "output_type": "execute_result"
    }
   ],
   "source": [
    "p_win = 203/trials # Теоретическая вероятность выиграть любую сумму\n",
    "p_win"
   ]
  },
  {
   "cell_type": "code",
   "execution_count": 194,
   "metadata": {},
   "outputs": [
    {
     "data": {
      "text/plain": [
       "0.20299999999999999"
      ]
     },
     "execution_count": 194,
     "metadata": {},
     "output_type": "execute_result"
    }
   ],
   "source": [
    "# Отдельные выигрыши - события несовместимые, поэтому сумма вероятностей выгрыша:\n",
    "\n",
    "p_win = p_777 + p_999 + p_555 + p_333 + p_111 + p_x77 + p_x00 + p_xx7 + p_xx0\n",
    "p_win"
   ]
  },
  {
   "cell_type": "code",
   "execution_count": 195,
   "metadata": {},
   "outputs": [
    {
     "data": {
      "text/plain": [
       "-0.982"
      ]
     },
     "execution_count": 195,
     "metadata": {},
     "output_type": "execute_result"
    }
   ],
   "source": [
    "# Посчитаем математическое ожидание выигрышей за вычетом взноса\n",
    "\n",
    "expected_777 = 200*p_777-1   # Математическое ожидание выиграть 200 рублей\n",
    "expected_999 = 100*p_999-1   # Математическое ожидание выиграть 100 рублей\n",
    "expected_555 = 50*p_555-1   # Математическое ожидание выиграть 50 рублей\n",
    "expected_333 = 15*p_333-1   # Математическое ожидание выиграть 15 рублей\n",
    "expected_111 = 10*p_111-1   # Математическое ожидание выиграть 10 рублей\n",
    "expected_x77 = 5*p_x77-1   # Математическое ожидание выиграть 5 рублей\n",
    "expected_x00 = 2*p_x00-1   # Математическое ожидание выиграть 2 рубля\n",
    "expected_xx7 = 3*p_xx7-1   # Математическое ожидание выиграть 3 рубля\n",
    "expected_xx0 = 1*p_xx0-1   # Математическое ожидание выиграть 1 рубль\n",
    "expected_x00"
   ]
  },
  {
   "cell_type": "code",
   "execution_count": 196,
   "metadata": {},
   "outputs": [
    {
     "data": {
      "text/plain": [
       "-0.20199999999999996"
      ]
     },
     "execution_count": 196,
     "metadata": {},
     "output_type": "execute_result"
    }
   ],
   "source": [
    "# Рассчитаем средний выгрыш / проигрыш\n",
    "\n",
    "exp_win = (200 * p_777 + 100 * p_999 + 50 * p_555 + 15 * p_333 + 10 * p_111 + 5 * p_x77 + 2 * p_x00 + 3 * p_xx7 + 1 * p_xx0) - 1\n",
    "exp_win"
   ]
  },
  {
   "cell_type": "markdown",
   "metadata": {},
   "source": [
    "Смоделированная и теоретическая вероятности любого выигрыша близки \n",
    "\n",
    "Игра невыгодна всегда, поскольку:\n",
    "- среднее значение любого выигрыша всегда меньше суммы взноса\n",
    "- выроятность любого выигрыша а также нулевого результата менее 0.5 \n",
    "\n",
    "За одну игру игрок теряет в среднем 20 копеек"
   ]
  }
 ],
 "metadata": {
  "kernelspec": {
   "display_name": "Python 3",
   "language": "python",
   "name": "python3"
  },
  "language_info": {
   "codemirror_mode": {
    "name": "ipython",
    "version": 3
   },
   "file_extension": ".py",
   "mimetype": "text/x-python",
   "name": "python",
   "nbconvert_exporter": "python",
   "pygments_lexer": "ipython3",
   "version": "3.8.3"
  }
 },
 "nbformat": 4,
 "nbformat_minor": 4
}
